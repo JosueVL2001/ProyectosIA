{
 "cells": [
  {
   "cell_type": "code",
   "execution_count": 1,
   "id": "e8f565ad",
   "metadata": {},
   "outputs": [],
   "source": [
    "class Imagen:\n",
    "    def __init__(self, tamaño, color):\n",
    "        self._tamaño = tamaño\n",
    "        self._color = color\n",
    "\n",
    "    @property\n",
    "    def tamaño(self):\n",
    "        return self._tamaño\n",
    "\n",
    "    @tamaño.setter\n",
    "    def tamaño(self, nuevo_tamaño):\n",
    "        self._tamaño = nuevo_tamaño\n",
    "\n",
    "    @property\n",
    "    def color(self):\n",
    "        return self._color\n",
    "\n",
    "    @color.setter\n",
    "    def color(self, nuevo_color):\n",
    "        # Verificar si el formato del color es válido\n",
    "        if isinstance(nuevo_color, tuple) and len(nuevo_color) == 3:\n",
    "            if all(isinstance(componente, int) and 0 <= componente <= 255 for componente in nuevo_color):\n",
    "                self._color = nuevo_color\n",
    "            else:\n",
    "                raise ValueError(\"Los componentes de color deben estar entre 0 y 255\")\n",
    "        else:\n",
    "            raise ValueError(\"El formato del color debe ser una tupla (r, g, b) con valores entre 0 y 255\")\n",
    "\n",
    "# Ejemplo de uso:\n",
    "# imagen1 = Imagen(tamaño=(800, 600), color=(0, 0, 255))\n",
    "# print(\"Tamaño de la imagen:\", imagen1.tamaño)\n",
    "# print(\"Color de la imagen:\", imagen1.color)\n",
    "\n",
    "# # Cambiar el tamaño de la imagen\n",
    "# imagen1.tamaño = (1024, 768)\n",
    "# print(\"Nuevo tamaño de la imagen:\", imagen1.tamaño)\n",
    "\n",
    "# # Cambiar el color de la imagen\n",
    "# imagen1.color = (255, 0, 0)\n",
    "# print(\"Nuevo color de la imagen:\", imagen1.color)\n"
   ]
  },
  {
   "cell_type": "code",
   "execution_count": 2,
   "id": "8ebf3fae",
   "metadata": {},
   "outputs": [],
   "source": [
    "import numpy as np\n",
    "import cv2\n",
    "import tkinter as tk\n",
    "from PIL import Image, ImageTk\n",
    "import random\n"
   ]
  },
  {
   "cell_type": "code",
   "execution_count": 3,
   "id": "d5b3bd0c",
   "metadata": {},
   "outputs": [],
   "source": [
    "# Función para crear una imagen del gato con un color dado\n",
    "def crear_imagen_gato(color, size):\n",
    "    height, width = size\n",
    "\n",
    "    image = np.ones((height, width, 3), dtype=np.uint8) * 255  # Fondo blanco\n",
    "\n",
    "    # Coordenadas relativas de las características del gato\n",
    "    relative_head_center = (0.5, 0.4)\n",
    "    relative_head_axes = (0.25, 0.17)\n",
    "    relative_eye_left = (0.43, 0.45)\n",
    "    relative_eye_right = (0.75, 0.45)\n",
    "    relative_nose_center = (0.5, 0.55)\n",
    "    relative_nose_axes = (0.05, 0.03)\n",
    "    relative_ear_left = [(0.4, 0.3), (0.5, 0.2), (0.6, 0.3)]\n",
    "    relative_ear_right = [(0.8, 0.3), (0.7, 0.2), (0.6, 0.3)]\n",
    "\n",
    "    # Convertir las coordenadas relativas a coordenadas absolutas\n",
    "    head_center = (int(width * relative_head_center[0]), int(height * relative_head_center[1]))\n",
    "    head_axes = (int(width * relative_head_axes[0]), int(height * relative_head_axes[1]))\n",
    "    eye_left = (int(width * relative_eye_left[0]), int(height * relative_eye_left[1]))\n",
    "    eye_right = (int(width * relative_eye_right[0]), int(height * relative_eye_right[1]))\n",
    "    nose_center = (int(width * relative_nose_center[0]), int(height * relative_nose_center[1]))\n",
    "    nose_axes = (int(width * relative_nose_axes[0]), int(height * relative_nose_axes[1]))\n",
    "    ear_left = np.array([[int(width * p[0]), int(height * p[1])] for p in relative_ear_left])\n",
    "    ear_right = np.array([[int(width * p[0]), int(height * p[1])] for p in relative_ear_right])\n",
    "\n",
    "    # Dibujar la cabeza del gato\n",
    "    cv2.ellipse(image, head_center, head_axes, 0, 0, 360, color, -1)\n",
    "\n",
    "    # Dibujar los ojos\n",
    "    cv2.circle(image, eye_left, int(0.05 * height), (0, 0, 0), -1)\n",
    "    cv2.circle(image, eye_right, int(0.05 * height), (0, 0, 0), -1)\n",
    "\n",
    "    # Dibujar la nariz\n",
    "    cv2.ellipse(image, nose_center, nose_axes, 0, 0, 360, (0, 0, 0), -1)\n",
    "\n",
    "    # Dibujar las orejas\n",
    "    cv2.fillPoly(image, [ear_left], color)\n",
    "    cv2.fillPoly(image, [ear_right], color)\n",
    "\n",
    "    return image"
   ]
  },
  {
   "cell_type": "code",
   "execution_count": 4,
   "id": "73eae2d0",
   "metadata": {},
   "outputs": [],
   "source": [
    "import math\n",
    "\n",
    "# Función para calcular la distancia euclidiana entre dos colores en el espacio RGB\n",
    "def euclidean_distance(color1, color2):\n",
    "    return math.sqrt(sum((c1 - c2) ** 2 for c1, c2 in zip(color1, color2)))"
   ]
  },
  {
   "cell_type": "code",
   "execution_count": 5,
   "id": "fdd262db",
   "metadata": {},
   "outputs": [],
   "source": [
    "def calculate_fitness(image_size, target_size):\n",
    "    # Calcula la diferencia absoluta entre el tamaño actual y el tamaño deseado\n",
    "    diff_width = abs(image_size[0] - target_size[0])\n",
    "    diff_height = abs(image_size[1] - target_size[1])\n",
    "\n",
    "    # Cuanto menor sea la diferencia, mejor es el ajuste, por lo tanto,\n",
    "    # el fitness será la inversa de la suma de las diferencias\n",
    "    fitness = 1 / (diff_width + diff_height + 1)  # +1 para evitar divisiones por cero\n",
    "\n",
    "    return fitness"
   ]
  },
  {
   "cell_type": "code",
   "execution_count": 6,
   "id": "872f3b47",
   "metadata": {},
   "outputs": [],
   "source": [
    "import random\n",
    "\n",
    "# Función para generar un color aleatorio en el rango RGB\n",
    "def generate_random_color():\n",
    "    return [random.randint(0, 255) for _ in range(3)]"
   ]
  },
  {
   "cell_type": "code",
   "execution_count": 7,
   "id": "9c5d0ed8",
   "metadata": {},
   "outputs": [],
   "source": [
    "def generate_random_size():\n",
    "    return [random.randint(50, 150) for _ in range(2)]"
   ]
  },
  {
   "cell_type": "code",
   "execution_count": 8,
   "id": "056d7072",
   "metadata": {},
   "outputs": [],
   "source": [
    "# Función para generar una población inicial de colores aleatorios\n",
    "def generate_initial_population(population_size):\n",
    "    return [generate_random_color() for _ in range(population_size)]"
   ]
  },
  {
   "cell_type": "code",
   "execution_count": 9,
   "id": "bef8a28b",
   "metadata": {},
   "outputs": [],
   "source": [
    "# Función para generar una población inicial de colores aleatorios\n",
    "def generate_size_initial_population(population_size):\n",
    "    return [generate_random_size() for _ in range(population_size)]"
   ]
  },
  {
   "cell_type": "code",
   "execution_count": 10,
   "id": "62cb62f3",
   "metadata": {},
   "outputs": [],
   "source": [
    "# Función de selección de torneo\n",
    "def tournament_selection(population, target_color,k=3):\n",
    "    tournament_contestants = random.sample(population, k)\n",
    "    return min(tournament_contestants, key=lambda x: euclidean_distance(x,target_color))"
   ]
  },
  {
   "cell_type": "code",
   "execution_count": 11,
   "id": "492400ce",
   "metadata": {},
   "outputs": [],
   "source": [
    "def tournament_selection_Size(population, target_size, k=3):\n",
    "    # Selecciona aleatoriamente k individuos de la población para el torneo\n",
    "    tournament_contestants = random.sample(population, k)\n",
    "    \n",
    "    # Calcula el fitness de cada individuo en el torneo\n",
    "    fitness_scores = [calculate_fitness(individual, target_size) for individual in tournament_contestants]\n",
    "    \n",
    "    # Encuentra al ganador del torneo (el individuo con el mejor fitness)\n",
    "    winner_index = fitness_scores.index(max(fitness_scores))\n",
    "    winner = tournament_contestants[winner_index]\n",
    "    \n",
    "    return winner\n"
   ]
  },
  {
   "cell_type": "code",
   "execution_count": 12,
   "id": "65345ef6",
   "metadata": {},
   "outputs": [],
   "source": [
    "# Función de cruce (crossover) de un punto\n",
    "def single_point_crossover(parent1, parent2):\n",
    "    crossover_point = random.randint(0, len(parent1) - 1)\n",
    "    child = parent1[:crossover_point] + parent2[crossover_point:]\n",
    "    return child"
   ]
  },
  {
   "cell_type": "code",
   "execution_count": 13,
   "id": "e6ef2d2d",
   "metadata": {},
   "outputs": [],
   "source": [
    "# Función de mutación\n",
    "def mutation(individual, mutation_rate=0.8):\n",
    "    mutated_individual = individual[:]\n",
    "    if random.random() < mutation_rate:\n",
    "        mutation_index = random.randint(0, len(individual) - 1)\n",
    "        mutated_individual[mutation_index] = random.randint(0, 255)\n",
    "    return mutated_individual\n",
    "\n",
    "# Ejemplo de mutación\n",
    "# individual = [200, 100, 51]\n",
    "# mutated_individual = mutation(individual)\n",
    "# print(\"Individuo mutado:\", mutated_individual)"
   ]
  },
  {
   "cell_type": "code",
   "execution_count": 14,
   "id": "6b21f33e",
   "metadata": {},
   "outputs": [],
   "source": [
    "# Función para evolucionar la población durante una generación de manera generacional\n",
    "def evolve_population(population,target_color, mutation_rate=0.8, crossover_rate=0.6):\n",
    "    new_population = []\n",
    "\n",
    "    # Cantidad de individuos que se seleccionarán para el cruce y la mutación\n",
    "    crossover_count = int(len(population) * crossover_rate)\n",
    "    mutation_count = len(population) - crossover_count\n",
    "\n",
    "    # Realizar cruce\n",
    "    for _ in range(crossover_count):\n",
    "        parent1 = tournament_selection(population,target_color)\n",
    "        parent2 = tournament_selection(population,target_color)\n",
    "        child = single_point_crossover(parent1, parent2)\n",
    "        new_population.append(child)\n",
    "\n",
    "    # Realizar mutación\n",
    "    for _ in range(mutation_count):\n",
    "        individual = tournament_selection(population,target_color)\n",
    "        mutated_individual = mutation(individual, mutation_rate)\n",
    "        new_population.append(mutated_individual)\n",
    "\n",
    "    return new_population"
   ]
  },
  {
   "cell_type": "code",
   "execution_count": 15,
   "id": "c586c120",
   "metadata": {},
   "outputs": [],
   "source": [
    "# Función para determinar si se ha alcanzado el criterio de parada\n",
    "def has_converged(population, target_color, threshold=1):\n",
    "    return all(euclidean_distance(individual, target_color) < threshold for individual in population)"
   ]
  },
  {
   "cell_type": "code",
   "execution_count": 16,
   "id": "dc53f80b",
   "metadata": {},
   "outputs": [
    {
     "name": "stdout",
     "output_type": "stream",
     "text": [
      "[[96, 73], [121, 119], [70, 65], [149, 52], [116, 103], [114, 93], [70, 117], [89, 82], [107, 86], [121, 105]]\n"
     ]
    }
   ],
   "source": [
    "# Crear la ventana de la interfaz\n",
    "root = tk.Tk()\n",
    "root.title(\"Gatos!\")\n",
    "\n",
    "# Crear un lienzo para colocar las imágenes de los gatos\n",
    "canvas = tk.Canvas(root, width=1000, height=1200)\n",
    "canvas.pack()\n",
    "\n",
    "# Lista para almacenar las imágenes y evitar que Python las elimine\n",
    "imagenes = []\n",
    "\n",
    "# Lista para almacenar los objetos PhotoImage de los gatos\n",
    "cat_photos = []\n",
    "\n",
    "# Coordenadas iniciales para la primera imagen de gato\n",
    "x, y = 110, 50\n",
    "\n",
    "\n",
    "target_color = [255, 0, 0]\n",
    "population_size = 10\n",
    "mutation_rate = 0.8\n",
    "max_generations = 10000\n",
    "\n",
    "population = generate_initial_population(population_size)\n",
    "size_population = generate_size_initial_population(population_size)\n",
    "print(size_population)\n",
    "for i, (color, size) in enumerate(zip(population, size_population)):\n",
    "    imagen = Imagen(tamaño=size, color=color)\n",
    "    image = crear_imagen_gato(imagen.color, imagen.tamaño)\n",
    "    image = cv2.cvtColor(image, cv2.COLOR_BGR2RGB)\n",
    "    image = Image.fromarray(image)\n",
    "    photo = ImageTk.PhotoImage(image)\n",
    "\n",
    "    cat_photo = canvas.create_image(x, y, image=photo)\n",
    "    cat_photos.append(photo)\n",
    "\n",
    "    x += 300  \n",
    "    if x >= 800:\n",
    "        x = 300\n",
    "        y += 150\n",
    "\n",
    "\n",
    "# Color objetivo al que queremos que evolucionen los gatos\n",
    "target_color = [255,0, 0 ]\n",
    "\n",
    "# Evolucionar los colores de los gatos hacia el color objetivo en tiempo real\n",
    "# evolve_cat_colors(canvas, target_color,population)\n",
    "# Mostrar ventana\n",
    "root.mainloop()"
   ]
  },
  {
   "cell_type": "code",
   "execution_count": 17,
   "id": "9ec4b62e",
   "metadata": {},
   "outputs": [],
   "source": [
    "# Crear cinco objetos de la clase Imagen\n",
    "imagenes_gatos = [\n",
    "    Imagen(tamaño=(random.randint(100,150), random.randint(100,190)), color=(255, 0, 0)),   # Rojo\n",
    "    Imagen(tamaño=(random.randint(100,150), random.randint(100,190)), color=(0, 255, 0)),   # Verde\n",
    "    Imagen(tamaño=(random.randint(100,150), random.randint(100,190)), color=(0, 0, 255)),   # Azul\n",
    "    Imagen(tamaño=(random.randint(100,150), random.randint(100,190)), color=(255, 255, 0)), # Amarillo\n",
    "    Imagen(tamaño=(random.randint(100,150), random.randint(100,190)), color=(255, 0, 255))  # Magenta\n",
    "]\n",
    "\n",
    "# Dibujar los gatos\n",
    "for i, img_gato in enumerate(imagenes_gatos, start=1):\n",
    "    img = crear_imagen_gato(img_gato.color, img_gato.tamaño)\n",
    "    cv2.imshow(f\"Gato {i}\", img)\n",
    "    cv2.waitKey(0)\n",
    "    cv2.destroyAllWindows()"
   ]
  },
  {
   "cell_type": "code",
   "execution_count": null,
   "id": "e8fce174",
   "metadata": {},
   "outputs": [],
   "source": []
  }
 ],
 "metadata": {
  "kernelspec": {
   "display_name": "Python 3 (ipykernel)",
   "language": "python",
   "name": "python3"
  },
  "language_info": {
   "codemirror_mode": {
    "name": "ipython",
    "version": 3
   },
   "file_extension": ".py",
   "mimetype": "text/x-python",
   "name": "python",
   "nbconvert_exporter": "python",
   "pygments_lexer": "ipython3",
   "version": "3.11.5"
  }
 },
 "nbformat": 4,
 "nbformat_minor": 5
}
